{
 "cells": [
  {
   "cell_type": "code",
   "execution_count": 1,
   "metadata": {},
   "outputs": [
    {
     "name": "stdout",
     "output_type": "stream",
     "text": [
      "WARNING:tensorflow:From c:\\Users\\alqer\\anaconda3\\envs\\uni2\\Lib\\site-packages\\keras\\src\\losses.py:2976: The name tf.losses.sparse_softmax_cross_entropy is deprecated. Please use tf.compat.v1.losses.sparse_softmax_cross_entropy instead.\n",
      "\n"
     ]
    }
   ],
   "source": [
    "# Import MNIST fashion dataset\n",
    "\n",
    "from tensorflow import keras\n",
    "from tensorflow.keras import layers\n",
    "from tensorflow.keras.datasets import mnist\n",
    "import numpy as np\n",
    "import matplotlib.pyplot as plt\n"
   ]
  },
  {
   "cell_type": "code",
   "execution_count": 2,
   "metadata": {},
   "outputs": [],
   "source": [
    "# load data\n",
    "\n",
    "(X_train, y_train), (X_test, y_test) = mnist.load_data()"
   ]
  },
  {
   "cell_type": "code",
   "execution_count": 3,
   "metadata": {},
   "outputs": [
    {
     "name": "stdout",
     "output_type": "stream",
     "text": [
      "The image is number:  [6]\n"
     ]
    },
    {
     "data": {
      "image/png": "[encoded data removed]",
      "text/plain": [
       "<Figure size 640x480 with 1 Axes>"
      ]
     },
     "metadata": {},
     "output_type": "display_data"
    }
   ],
   "source": [
    "# Plot a random image\n",
    "\n",
    "rand_idx = np.random.randint(0, X_train.shape[0])\n",
    "plt.imshow(X_train[rand_idx], cmap='gray')\n",
    "print(\"The image is number: \", [y_train[rand_idx]])"
   ]
  },
  {
   "cell_type": "code",
   "execution_count": 4,
   "metadata": {},
   "outputs": [],
   "source": [
    "# Scale values between -1 an 1\n",
    "\n",
    "X_train = X_train.astype('float32') / 127.5 - 1\n",
    "X_test = X_test.astype('float32') / 127.5 - 1"
   ]
  },
  {
   "cell_type": "code",
   "execution_count": 5,
   "metadata": {},
   "outputs": [
    {
     "name": "stdout",
     "output_type": "stream",
     "text": [
      "The image is number:  [6]\n"
     ]
    },
    {
     "data": {
      "image/png": "[encoded data removed]",
      "text/plain": [
       "<Figure size 640x480 with 1 Axes>"
      ]
     },
     "metadata": {},
     "output_type": "display_data"
    }
   ],
   "source": [
    "plt.imshow(X_train[rand_idx], cmap='gray')\n",
    "print(\"The image is number: \", [y_train[rand_idx]])"
   ]
  },
  {
   "cell_type": "markdown",
   "metadata": {},
   "source": [
    "## Build a Neural Network using Sequential"
   ]
  },
  {
   "cell_type": "code",
   "execution_count": 6,
   "metadata": {},
   "outputs": [
    {
     "name": "stdout",
     "output_type": "stream",
     "text": [
      "WARNING:tensorflow:From c:\\Users\\alqer\\anaconda3\\envs\\uni2\\Lib\\site-packages\\keras\\src\\backend.py:1398: The name tf.executing_eagerly_outside_functions is deprecated. Please use tf.compat.v1.executing_eagerly_outside_functions instead.\n",
      "\n"
     ]
    }
   ],
   "source": [
    "# Build the model\n",
    "\n",
    "model_sequential = keras.Sequential([\n",
    "    keras.Input(shape=(28, 28)),                    # Input layer with shape of 28x28 (image size in pixels)\n",
    "    layers.Flatten(),                               # Flatten the image into a 1D array of 28*28=784 pixels\n",
    "    layers.Dense(128, activation='relu'),           # Hidden layer with 128 neurons and ReLU activation\n",
    "    layers.Dense(10, activation='softmax')          # Output layer with 10 neurons (number of classes) and softmax activation (probabilities of each class)\n",
    "])"
   ]
  },
  {
   "cell_type": "code",
   "execution_count": 7,
   "metadata": {},
   "outputs": [],
   "source": [
    "# Compile the model\n",
    "\n",
    "optimizer = keras.optimizers.Adam(learning_rate=0.001)\n",
    "\n",
    "model_sequential.compile(\n",
    "    optimizer=optimizer,\n",
    "    loss='sparse_categorical_crossentropy',\n",
    "    metrics=['accuracy']\n",
    ")"
   ]
  },
  {
   "cell_type": "code",
   "execution_count": 8,
   "metadata": {},
   "outputs": [
    {
     "name": "stdout",
     "output_type": "stream",
     "text": [
      "Epoch 1/15\n",
      "WARNING:tensorflow:From c:\\Users\\alqer\\anaconda3\\envs\\uni2\\Lib\\site-packages\\keras\\src\\utils\\tf_utils.py:492: The name tf.ragged.RaggedTensorValue is deprecated. Please use tf.compat.v1.ragged.RaggedTensorValue instead.\n",
      "\n",
      "WARNING:tensorflow:From c:\\Users\\alqer\\anaconda3\\envs\\uni2\\Lib\\site-packages\\keras\\src\\engine\\base_layer_utils.py:384: The name tf.executing_eagerly_outside_functions is deprecated. Please use tf.compat.v1.executing_eagerly_outside_functions instead.\n",
      "\n",
      "1500/1500 - 3s - loss: 0.3559 - accuracy: 0.8932 - val_loss: 0.2771 - val_accuracy: 0.9113 - 3s/epoch - 2ms/step\n",
      "Epoch 2/15\n",
      "1500/1500 - 2s - loss: 0.1862 - accuracy: 0.9445 - val_loss: 0.1672 - val_accuracy: 0.9498 - 2s/epoch - 1ms/step\n",
      "Epoch 3/15\n",
      "1500/1500 - 2s - loss: 0.1435 - accuracy: 0.9570 - val_loss: 0.1549 - val_accuracy: 0.9557 - 2s/epoch - 1ms/step\n",
      "Epoch 4/15\n",
      "1500/1500 - 2s - loss: 0.1180 - accuracy: 0.9641 - val_loss: 0.1384 - val_accuracy: 0.9600 - 2s/epoch - 2ms/step\n",
      "Epoch 5/15\n",
      "1500/1500 - 2s - loss: 0.1001 - accuracy: 0.9686 - val_loss: 0.1302 - val_accuracy: 0.9603 - 2s/epoch - 1ms/step\n",
      "Epoch 6/15\n",
      "1500/1500 - 2s - loss: 0.0915 - accuracy: 0.9712 - val_loss: 0.1471 - val_accuracy: 0.9556 - 2s/epoch - 1ms/step\n",
      "Epoch 7/15\n",
      "1500/1500 - 2s - loss: 0.0819 - accuracy: 0.9734 - val_loss: 0.1178 - val_accuracy: 0.9673 - 2s/epoch - 1ms/step\n",
      "Epoch 8/15\n",
      "1500/1500 - 2s - loss: 0.0728 - accuracy: 0.9765 - val_loss: 0.1130 - val_accuracy: 0.9680 - 2s/epoch - 1ms/step\n",
      "Epoch 9/15\n",
      "1500/1500 - 2s - loss: 0.0670 - accuracy: 0.9783 - val_loss: 0.1063 - val_accuracy: 0.9712 - 2s/epoch - 1ms/step\n",
      "Epoch 10/15\n",
      "1500/1500 - 2s - loss: 0.0605 - accuracy: 0.9803 - val_loss: 0.1127 - val_accuracy: 0.9685 - 2s/epoch - 1ms/step\n",
      "Epoch 11/15\n",
      "1500/1500 - 2s - loss: 0.0584 - accuracy: 0.9808 - val_loss: 0.1051 - val_accuracy: 0.9716 - 2s/epoch - 1ms/step\n",
      "Epoch 12/15\n",
      "1500/1500 - 2s - loss: 0.0515 - accuracy: 0.9834 - val_loss: 0.1242 - val_accuracy: 0.9676 - 2s/epoch - 1ms/step\n",
      "Epoch 13/15\n",
      "1500/1500 - 2s - loss: 0.0498 - accuracy: 0.9836 - val_loss: 0.1206 - val_accuracy: 0.9693 - 2s/epoch - 1ms/step\n",
      "Epoch 14/15\n",
      "1500/1500 - 2s - loss: 0.0449 - accuracy: 0.9852 - val_loss: 0.1428 - val_accuracy: 0.9630 - 2s/epoch - 1ms/step\n",
      "Epoch 15/15\n",
      "1500/1500 - 2s - loss: 0.0437 - accuracy: 0.9856 - val_loss: 0.1456 - val_accuracy: 0.9634 - 2s/epoch - 1ms/step\n"
     ]
    },
    {
     "data": {
      "text/plain": [
       "<keras.src.callbacks.History at 0x29218b118d0>"
      ]
     },
     "execution_count": 8,
     "metadata": {},
     "output_type": "execute_result"
    }
   ],
   "source": [
    "# Train the model\n",
    "\n",
    "model_sequential.fit(X_train, y_train, validation_split=0.2, batch_size=32, epochs=15, verbose=2)"
   ]
  },
  {
   "cell_type": "code",
   "execution_count": 9,
   "metadata": {},
   "outputs": [
    {
     "name": "stdout",
     "output_type": "stream",
     "text": [
      "Sequential model accuracy: 96.43%\n"
     ]
    }
   ],
   "source": [
    "# Evaluate the model\n",
    "\n",
    "_, model_sequential_accuracy = model_sequential.evaluate(X_test, y_test, batch_size=32, verbose=0)\n",
    "print(f\"Sequential model accuracy: {round(model_sequential_accuracy * 100, 2)}%\")"
   ]
  },
  {
   "cell_type": "code",
   "execution_count": 10,
   "metadata": {},
   "outputs": [
    {
     "name": "stdout",
     "output_type": "stream",
     "text": [
      "1/1 [==============================] - 0s 68ms/step\n",
      "Model prediction:  8\n",
      "The number is:  8\n"
     ]
    },
    {
     "data": {
      "text/plain": [
       "<matplotlib.image.AxesImage at 0x2921959cd50>"
      ]
     },
     "execution_count": 10,
     "metadata": {},
     "output_type": "execute_result"
    },
    {
     "data": {
      "image/png": "[encoded data removed]",
      "text/plain": [
       "<Figure size 640x480 with 1 Axes>"
      ]
     },
     "metadata": {},
     "output_type": "display_data"
    }
   ],
   "source": [
    "# Make random predictions\n",
    "\n",
    "rand_idx = np.random.randint(0, X_test.shape[0])\n",
    "test_instance = X_test[rand_idx].reshape(1, 28, 28)\n",
    "predictions = model_sequential.predict(test_instance)\n",
    "\n",
    "print(\"Model prediction: \", np.argmax(predictions))\n",
    "print(\"The number is: \", y_test[rand_idx])\n",
    "\n",
    "plt.imshow(test_instance.reshape(28, 28), cmap='gray')"
   ]
  },
  {
   "cell_type": "markdown",
   "metadata": {},
   "source": [
    "## Build a Neural Network using Functional API"
   ]
  },
  {
   "cell_type": "code",
   "execution_count": 11,
   "metadata": {},
   "outputs": [],
   "source": [
    "# Build the model\n",
    "\n",
    "inputs = keras.Input(shape=(28, 28))                    # Input layer with shape of 28x28 (image size in pixels)\n",
    "x = layers.Flatten()(inputs)                            # Flatten the image into a 1D array of shape 784 (28*28)\n",
    "x = layers.Dense(128, activation='relu')(x)             # Hidden layer with 128 neurons and ReLU activation\n",
    "outputs = layers.Dense(10, activation='softmax')(x)     # Output layer with 10 neurons (number of classes) and softmax activation (probabilities of each class)\n",
    "\n",
    "model_functional = keras.Model(inputs=inputs, outputs=outputs)"
   ]
  },
  {
   "cell_type": "code",
   "execution_count": 12,
   "metadata": {},
   "outputs": [],
   "source": [
    "# Compile the model\n",
    "\n",
    "optimizer = keras.optimizers.Adam(learning_rate=0.001)\n",
    "\n",
    "model_functional.compile(\n",
    "    optimizer=optimizer,\n",
    "    loss='sparse_categorical_crossentropy',\n",
    "    metrics=['accuracy']\n",
    ")"
   ]
  },
  {
   "cell_type": "code",
   "execution_count": 13,
   "metadata": {},
   "outputs": [
    {
     "name": "stdout",
     "output_type": "stream",
     "text": [
      "Epoch 1/15\n",
      "1500/1500 - 2s - loss: 0.3531 - accuracy: 0.8939 - val_loss: 0.2349 - val_accuracy: 0.9293 - 2s/epoch - 2ms/step\n",
      "Epoch 2/15\n",
      "1500/1500 - 2s - loss: 0.1852 - accuracy: 0.9444 - val_loss: 0.1658 - val_accuracy: 0.9507 - 2s/epoch - 1ms/step\n",
      "Epoch 3/15\n",
      "1500/1500 - 2s - loss: 0.1407 - accuracy: 0.9575 - val_loss: 0.1346 - val_accuracy: 0.9600 - 2s/epoch - 1ms/step\n",
      "Epoch 4/15\n",
      "1500/1500 - 2s - loss: 0.1186 - accuracy: 0.9629 - val_loss: 0.1315 - val_accuracy: 0.9602 - 2s/epoch - 1ms/step\n",
      "Epoch 5/15\n",
      "1500/1500 - 2s - loss: 0.1054 - accuracy: 0.9662 - val_loss: 0.1167 - val_accuracy: 0.9654 - 2s/epoch - 1ms/step\n",
      "Epoch 6/15\n",
      "1500/1500 - 2s - loss: 0.0901 - accuracy: 0.9714 - val_loss: 0.1413 - val_accuracy: 0.9600 - 2s/epoch - 1ms/step\n",
      "Epoch 7/15\n",
      "1500/1500 - 2s - loss: 0.0822 - accuracy: 0.9749 - val_loss: 0.1322 - val_accuracy: 0.9637 - 2s/epoch - 1ms/step\n",
      "Epoch 8/15\n",
      "1500/1500 - 2s - loss: 0.0784 - accuracy: 0.9747 - val_loss: 0.1171 - val_accuracy: 0.9682 - 2s/epoch - 1ms/step\n",
      "Epoch 9/15\n",
      "1500/1500 - 2s - loss: 0.0683 - accuracy: 0.9782 - val_loss: 0.1176 - val_accuracy: 0.9676 - 2s/epoch - 1ms/step\n",
      "Epoch 10/15\n",
      "1500/1500 - 2s - loss: 0.0656 - accuracy: 0.9785 - val_loss: 0.1273 - val_accuracy: 0.9657 - 2s/epoch - 1ms/step\n",
      "Epoch 11/15\n",
      "1500/1500 - 2s - loss: 0.0598 - accuracy: 0.9806 - val_loss: 0.1294 - val_accuracy: 0.9632 - 2s/epoch - 1ms/step\n",
      "Epoch 12/15\n",
      "1500/1500 - 2s - loss: 0.0554 - accuracy: 0.9817 - val_loss: 0.1200 - val_accuracy: 0.9692 - 2s/epoch - 1ms/step\n",
      "Epoch 13/15\n",
      "1500/1500 - 2s - loss: 0.0510 - accuracy: 0.9837 - val_loss: 0.1194 - val_accuracy: 0.9693 - 2s/epoch - 1ms/step\n",
      "Epoch 14/15\n",
      "1500/1500 - 2s - loss: 0.0492 - accuracy: 0.9832 - val_loss: 0.1150 - val_accuracy: 0.9691 - 2s/epoch - 1ms/step\n",
      "Epoch 15/15\n",
      "1500/1500 - 2s - loss: 0.0449 - accuracy: 0.9848 - val_loss: 0.1071 - val_accuracy: 0.9732 - 2s/epoch - 1ms/step\n"
     ]
    },
    {
     "data": {
      "text/plain": [
       "<keras.src.callbacks.History at 0x292195815d0>"
      ]
     },
     "execution_count": 13,
     "metadata": {},
     "output_type": "execute_result"
    }
   ],
   "source": [
    "# Train the model\n",
    "\n",
    "model_functional.fit(X_train, y_train, validation_split=0.2, batch_size=32, epochs=15, verbose=2)"
   ]
  },
  {
   "cell_type": "code",
   "execution_count": 14,
   "metadata": {},
   "outputs": [
    {
     "name": "stdout",
     "output_type": "stream",
     "text": [
      "Functional model accuracy: 97.41%\n"
     ]
    }
   ],
   "source": [
    "# Evaluate the model\n",
    "\n",
    "_, model_functional_accuracy = model_functional.evaluate(X_test, y_test, batch_size=32, verbose=0)\n",
    "print(f\"Functional model accuracy: {round(model_functional_accuracy * 100, 2)}%\")"
   ]
  },
  {
   "cell_type": "code",
   "execution_count": 15,
   "metadata": {},
   "outputs": [
    {
     "name": "stdout",
     "output_type": "stream",
     "text": [
      "1/1 [==============================] - 0s 38ms/step\n",
      "Model prediction:  6\n",
      "The number is:  6\n"
     ]
    },
    {
     "data": {
      "text/plain": [
       "<matplotlib.image.AxesImage at 0x2923e9ae750>"
      ]
     },
     "execution_count": 15,
     "metadata": {},
     "output_type": "execute_result"
    },
    {
     "data": {
      "image/png": "[encoded data removed]",
      "text/plain": [
       "<Figure size 640x480 with 1 Axes>"
      ]
     },
     "metadata": {},
     "output_type": "display_data"
    }
   ],
   "source": [
    "# Make random predictions\n",
    "\n",
    "rand_idx = np.random.randint(0, X_test.shape[0])\n",
    "test_instance = X_test[rand_idx].reshape(1, 28, 28)\n",
    "predictions = model_functional.predict(test_instance)\n",
    "\n",
    "print(\"Model prediction: \", np.argmax(predictions))\n",
    "print(\"The number is: \", y_test[rand_idx])\n",
    "\n",
    "plt.imshow(test_instance.reshape(28, 28), cmap='gray')"
   ]
  },
  {
   "cell_type": "markdown",
   "metadata": {},
   "source": [
    "## Build a Neural Network using PyTorch"
   ]
  },
  {
   "cell_type": "code",
   "execution_count": 16,
   "metadata": {},
   "outputs": [],
   "source": [
    "# import necessary libraries\n",
    "\n",
    "import torch\n",
    "import torch.nn as nn\n",
    "import torch.optim as optim\n",
    "from torch.utils.data import DataLoader, TensorDataset\n",
    "import tqdm"
   ]
  },
  {
   "cell_type": "code",
   "execution_count": 17,
   "metadata": {},
   "outputs": [],
   "source": [
    "# Convert numpy arrays to PyTorch tensors\n",
    "\n",
    "X_train = torch.from_numpy(X_train)\n",
    "y_train = torch.from_numpy(y_train)\n",
    "\n",
    "X_test = torch.from_numpy(X_test)\n",
    "y_test = torch.from_numpy(y_test)"
   ]
  },
  {
   "cell_type": "code",
   "execution_count": 18,
   "metadata": {},
   "outputs": [],
   "source": [
    "# Create a DataLoader\n",
    "\n",
    "train_dataset = TensorDataset(X_train, y_train)\n",
    "train_loader = DataLoader(train_dataset, batch_size=32, shuffle=True)"
   ]
  },
  {
   "cell_type": "code",
   "execution_count": 19,
   "metadata": {},
   "outputs": [],
   "source": [
    "# Build the Neural Network\n",
    "\n",
    "class NeuralNetwork(nn.Module):\n",
    "    def __init__(self):\n",
    "        super(NeuralNetwork, self).__init__()           # Call the parent class constructor\n",
    "        self.flatten = nn.Flatten()                     # Flatten the input tensor from shape (batch_size, 28, 28) to (batch_size, 28*28)\n",
    "        self.hidden = nn.Linear(28*28, 128)             # Hidden layer with 128 neurons\n",
    "        self.output = nn.Linear(128, 10)                # Output layer with 10 neurons (number of classes)\n",
    "\n",
    "    def forward(self, x):\n",
    "        x = self.flatten(x)                             # Flatten the input tensor\n",
    "        x = nn.functional.relu(self.hidden(x))          # Execute the hidden layer with ReLU activation\n",
    "        x = self.output(x)                              # Execute the output layer\n",
    "        return x\n",
    "\n",
    "model_pyTorch = NeuralNetwork()"
   ]
  },
  {
   "cell_type": "code",
   "execution_count": 20,
   "metadata": {},
   "outputs": [],
   "source": [
    "# Define the loss function and optimizer\n",
    "\n",
    "criterion = nn.CrossEntropyLoss()\n",
    "optimizer = optim.Adam(model_pyTorch.parameters(), lr=0.001)"
   ]
  },
  {
   "cell_type": "code",
   "execution_count": 21,
   "metadata": {},
   "outputs": [
    {
     "name": "stderr",
     "output_type": "stream",
     "text": [
      "100%|██████████| 1875/1875 [00:02<00:00, 814.20it/s]\n"
     ]
    },
    {
     "name": "stdout",
     "output_type": "stream",
     "text": [
      "Epoch 1, loss: 0.3466315827290217\n"
     ]
    },
    {
     "name": "stderr",
     "output_type": "stream",
     "text": [
      "100%|██████████| 1875/1875 [00:02<00:00, 766.75it/s]\n"
     ]
    },
    {
     "name": "stdout",
     "output_type": "stream",
     "text": [
      "Epoch 2, loss: 0.1712473076251646\n"
     ]
    },
    {
     "name": "stderr",
     "output_type": "stream",
     "text": [
      "100%|██████████| 1875/1875 [00:02<00:00, 756.92it/s]\n"
     ]
    },
    {
     "name": "stdout",
     "output_type": "stream",
     "text": [
      "Epoch 3, loss: 0.12917970973948636\n"
     ]
    },
    {
     "name": "stderr",
     "output_type": "stream",
     "text": [
      "100%|██████████| 1875/1875 [00:02<00:00, 777.86it/s]\n"
     ]
    },
    {
     "name": "stdout",
     "output_type": "stream",
     "text": [
      "Epoch 4, loss: 0.10745131133832038\n"
     ]
    },
    {
     "name": "stderr",
     "output_type": "stream",
     "text": [
      "100%|██████████| 1875/1875 [00:02<00:00, 770.50it/s]\n"
     ]
    },
    {
     "name": "stdout",
     "output_type": "stream",
     "text": [
      "Epoch 5, loss: 0.09181136831076195\n"
     ]
    },
    {
     "name": "stderr",
     "output_type": "stream",
     "text": [
      "100%|██████████| 1875/1875 [00:02<00:00, 716.83it/s]\n"
     ]
    },
    {
     "name": "stdout",
     "output_type": "stream",
     "text": [
      "Epoch 6, loss: 0.08204440211349477\n"
     ]
    },
    {
     "name": "stderr",
     "output_type": "stream",
     "text": [
      "100%|██████████| 1875/1875 [00:02<00:00, 739.02it/s]\n"
     ]
    },
    {
     "name": "stdout",
     "output_type": "stream",
     "text": [
      "Epoch 7, loss: 0.07295646565446319\n"
     ]
    },
    {
     "name": "stderr",
     "output_type": "stream",
     "text": [
      "100%|██████████| 1875/1875 [00:02<00:00, 771.17it/s]\n"
     ]
    },
    {
     "name": "stdout",
     "output_type": "stream",
     "text": [
      "Epoch 8, loss: 0.06836971134655953\n"
     ]
    },
    {
     "name": "stderr",
     "output_type": "stream",
     "text": [
      "100%|██████████| 1875/1875 [00:02<00:00, 684.09it/s]\n"
     ]
    },
    {
     "name": "stdout",
     "output_type": "stream",
     "text": [
      "Epoch 9, loss: 0.06198213235788668\n"
     ]
    },
    {
     "name": "stderr",
     "output_type": "stream",
     "text": [
      "100%|██████████| 1875/1875 [00:02<00:00, 766.23it/s]\n"
     ]
    },
    {
     "name": "stdout",
     "output_type": "stream",
     "text": [
      "Epoch 10, loss: 0.05900165988478499\n"
     ]
    },
    {
     "name": "stderr",
     "output_type": "stream",
     "text": [
      "100%|██████████| 1875/1875 [00:02<00:00, 725.67it/s]\n"
     ]
    },
    {
     "name": "stdout",
     "output_type": "stream",
     "text": [
      "Epoch 11, loss: 0.05287305401530272\n"
     ]
    },
    {
     "name": "stderr",
     "output_type": "stream",
     "text": [
      "100%|██████████| 1875/1875 [00:02<00:00, 772.05it/s]\n"
     ]
    },
    {
     "name": "stdout",
     "output_type": "stream",
     "text": [
      "Epoch 12, loss: 0.050001979286766925\n"
     ]
    },
    {
     "name": "stderr",
     "output_type": "stream",
     "text": [
      "100%|██████████| 1875/1875 [00:02<00:00, 659.08it/s]\n"
     ]
    },
    {
     "name": "stdout",
     "output_type": "stream",
     "text": [
      "Epoch 13, loss: 0.04923087822323044\n"
     ]
    },
    {
     "name": "stderr",
     "output_type": "stream",
     "text": [
      "100%|██████████| 1875/1875 [00:02<00:00, 676.85it/s]\n"
     ]
    },
    {
     "name": "stdout",
     "output_type": "stream",
     "text": [
      "Epoch 14, loss: 0.044218755800509824\n"
     ]
    },
    {
     "name": "stderr",
     "output_type": "stream",
     "text": [
      "100%|██████████| 1875/1875 [00:02<00:00, 678.34it/s]"
     ]
    },
    {
     "name": "stdout",
     "output_type": "stream",
     "text": [
      "Epoch 15, loss: 0.04348490875000716\n"
     ]
    },
    {
     "name": "stderr",
     "output_type": "stream",
     "text": [
      "\n"
     ]
    }
   ],
   "source": [
    "# Train the model\n",
    "\n",
    "for epoch in range(15):                                     # loop over the dataset multiple times\n",
    "    running_loss = 0.0\n",
    "    for i, data in tqdm.tqdm(enumerate(train_loader, 0), total=len(train_loader)):\n",
    "        inputs, labels = data                               # get the inputs; data is a list of [inputs, labels]\n",
    "        optimizer.zero_grad()                               # zero the parameter gradients; which means that the optimizer will zero all the gradients in the model before the next batch is passed through; necessary to avoid accumulation of gradients\n",
    "        outputs = model_pyTorch(inputs)                     # forward pass; calculate the output of the model for the given input\n",
    "        loss = criterion(outputs, labels)                   # calculate the loss\n",
    "        loss.backward()                                     # backward pass; calculate the gradients of the loss with respect to the model parameters to update the model\n",
    "        optimizer.step()                                    # optimize the model parameters based on the gradients\n",
    "        running_loss += loss.item()\n",
    "    print(f\"Epoch {epoch+1}, loss: {running_loss/len(train_loader)}\")"
   ]
  },
  {
   "cell_type": "code",
   "execution_count": 22,
   "metadata": {},
   "outputs": [
    {
     "name": "stdout",
     "output_type": "stream",
     "text": [
      "Accuracy: 97.46%\n"
     ]
    }
   ],
   "source": [
    "# Evaluate the model\n",
    "\n",
    "outputs = model_pyTorch(X_test)\n",
    "_, predictions = torch.max(outputs, 1)\n",
    "accuracy = (predictions == y_test).sum().item() / y_test.size(0)\n",
    "print(f'Accuracy: {round(accuracy*100, 2)}%')"
   ]
  },
  {
   "cell_type": "code",
   "execution_count": 23,
   "metadata": {},
   "outputs": [
    {
     "name": "stdout",
     "output_type": "stream",
     "text": [
      "Model prediction:  0\n",
      "The number is:  0\n"
     ]
    },
    {
     "data": {
      "image/png": "[encoded data removed]",
      "text/plain": [
       "<Figure size 640x480 with 1 Axes>"
      ]
     },
     "metadata": {},
     "output_type": "display_data"
    }
   ],
   "source": [
    "# Make random predictions\n",
    "\n",
    "rand_idx = np.random.randint(0, X_test.size(0))\n",
    "test_instance = X_test[rand_idx].reshape(1, 28, 28)\n",
    "predictions = model_pyTorch(test_instance)\n",
    "_, prediction = torch.max(predictions, 1)\n",
    "\n",
    "plt.imshow(test_instance.reshape(28, 28), cmap='gray')\n",
    "\n",
    "print(\"Model prediction: \", prediction.item())\n",
    "print(\"The number is: \", y_test[rand_idx].item())\n"
   ]
  }
 ],
 "metadata": {
  "kernelspec": {
   "display_name": "uni2",
   "language": "python",
   "name": "python3"
  },
  "language_info": {
   "codemirror_mode": {
    "name": "ipython",
    "version": 3
   },
   "file_extension": ".py",
   "mimetype": "text/x-python",
   "name": "python",
   "nbconvert_exporter": "python",
   "pygments_lexer": "ipython3",
   "version": "3.11.5"
  }
 },
 "nbformat": 4,
 "nbformat_minor": 2
}
